{
 "cells": [
  {
   "cell_type": "code",
   "execution_count": 91,
   "metadata": {},
   "outputs": [
    {
     "data": {
      "text/plain": [
       "False"
      ]
     },
     "execution_count": 91,
     "metadata": {},
     "output_type": "execute_result"
    }
   ],
   "source": [
    "import numpy\n",
    "import matplotlib\n",
    "import pandas\n",
    "import scipy\n",
    "import math\n",
    "\n",
    "def SoNguyenTo(n):\n",
    "    for i in range (2,n,1):\n",
    "        if(n%i==0):\n",
    "            return False\n",
    "    return True\n",
    "\n",
    "def UCLN(a,b):\n",
    "    if(a<=0 or b<=0):\n",
    "        print(\"Co so am trong phan kiem tra!\")\n",
    "        return \n",
    "    while(a!=b):\n",
    "        if(a>b):\n",
    "            a=a-b\n",
    "        else:\n",
    "            b=b-a\n",
    "    return a\n",
    "\n",
    "def BCNN(a,b):\n",
    "    if(a<=0 or b<=0):\n",
    "        print(\"Co so am trong phan kiem tra!\")\n",
    "        return \n",
    "    return int((a*b)/UCLN(a,b))\n",
    "\n",
    "def SoChinhPhuong(m):\n",
    "    can = math.sqrt(m)\n",
    "    if(can == int(can)):\n",
    "        return True\n",
    "    else:\n",
    "        return False\n",
    "\n",
    "#int main:\n",
    "#a= int(input(\"Moi ban nhap a: \"))\n",
    "#b= int(input(\"Moi ban nhap b: \"))\n",
    "#print(\"UCLN la: \"+str(UCLN(a,b)))\n",
    "#print(\"BCNN la: \"+str(BCNN(a,b)))\n",
    "\n",
    "SoChinhPhuong(19)\n"
   ]
  },
  {
   "cell_type": "code",
   "execution_count": null,
   "metadata": {},
   "outputs": [],
   "source": []
  },
  {
   "cell_type": "code",
   "execution_count": 24,
   "metadata": {},
   "outputs": [
    {
     "data": {
      "text/plain": [
       "9"
      ]
     },
     "execution_count": 24,
     "metadata": {},
     "output_type": "execute_result"
    }
   ],
   "source": [
    "str1 = \"abcsadgfs\"   #chuỗi\n",
    "a = [1,2,3,3454,56,3]\n",
    "\n",
    "s1 =  {3,2,3,5,7,7,7,7,7} # mà các phần từ ko giong nhau\n",
    "fs1 = frozenset({3,2,5,4,2,3,3,3,3,2})   # là set nhưng k thay đổi đc các giá trị\n",
    "d1 = {\n",
    "    \"chuoi\":9,\n",
    "    \"ga\":5,\n",
    "    \"thit cho\":2,\n",
    "    3:2,\n",
    "    True:\"Dung\"\n",
    "}\n",
    "\n",
    "d1[\"chuoi\"]"
   ]
  },
  {
   "cell_type": "code",
   "execution_count": 35,
   "metadata": {
    "scrolled": true
   },
   "outputs": [
    {
     "data": {
      "image/png": "[encoded data removed]",
      "text/plain": [
       "<Figure size 432x288 with 1 Axes>"
      ]
     },
     "metadata": {},
     "output_type": "display_data"
    }
   ],
   "source": [
    "# module packages\n",
    "import numpy as np\n",
    "import scipy as sp\n",
    "import matplotlib as mpl\n",
    "import matplotlib.pyplot as plt\n",
    "import pandas\n",
    "import sklearn\n",
    "\n",
    "#int main():\n",
    "x = [1,4,5,6,7]\n",
    "y = [2,6,3,6,3]\n",
    "plt.plot(x,y,'r-.',marker='o',mfc='b',ms=10)\n",
    "plt.xlabel(\"x-axis\")\n",
    "plt.ylabel(\"y-axis\")\n",
    "plt.title(\"Display marker\")\n",
    "plt.show()\n",
    "# thuooc tinh: https://matplotlib.org/api/_as_gen/matplotlib.pyplot.plot.html\n",
    "\n"
   ]
  },
  {
   "cell_type": "code",
   "execution_count": 7,
   "metadata": {},
   "outputs": [
    {
     "data": {
      "text/plain": [
       "{1, 3, 4}"
      ]
     },
     "execution_count": 7,
     "metadata": {},
     "output_type": "execute_result"
    }
   ],
   "source": [
    "# 1 dict có các value khác nhau\n",
    "\n",
    "d1 ={\n",
    "    1:1,\n",
    "    2:1,\n",
    "    3:1,\n",
    "    4:3,\n",
    "    5:3,\n",
    "    6:4\n",
    "}\n",
    "d1= set(d1.values())\n",
    "d1"
   ]
  },
  {
   "cell_type": "code",
   "execution_count": 2,
   "metadata": {},
   "outputs": [
    {
     "data": {
      "text/plain": [
       "55"
      ]
     },
     "execution_count": 2,
     "metadata": {},
     "output_type": "execute_result"
    }
   ],
   "source": [
    "# tính đệ quy fibonaci\n",
    "\n",
    "def Fibo(n):\n",
    "    if(n<0):\n",
    "        print(\"n không thể âm! \")\n",
    "        return \n",
    "    if(n==0):\n",
    "        return 0\n",
    "    if(n==1):\n",
    "        return 1\n",
    "    else:\n",
    "        return Fibo(n-1)+Fibo(n-2)\n",
    "    \n",
    "\n",
    "#test thử hàm\n",
    "\n",
    "Fibo(5)\n",
    "Fibo(10)\n"
   ]
  },
  {
   "cell_type": "code",
   "execution_count": 5,
   "metadata": {},
   "outputs": [
    {
     "name": "stdout",
     "output_type": "stream",
     "text": [
      "moi nhap: anh yeu em\n",
      "['anh', 'em', 'yeu']\n"
     ]
    }
   ],
   "source": [
    "#bai1 slide lý thuyết 4\n",
    "s1 = input(\"moi nhap: \").split(\" \")\n",
    "print(sorted(s1))"
   ]
  },
  {
   "cell_type": "code",
   "execution_count": 14,
   "metadata": {},
   "outputs": [
    {
     "name": "stdout",
     "output_type": "stream",
     "text": [
      "11111111,00000001\n",
      "[255, 1]\n"
     ]
    }
   ],
   "source": [
    "#bai2\n",
    "s1= input().split(\",\")\n",
    "\n",
    "for i in range(0,len(s1),1):\n",
    "    s1[i]=int(s1[i],2)    # int(11111111,2) trả ra kết quả 255. Đây là phép đổi từ nhị phân sang thập phân\n",
    "print(s1)\n"
   ]
  },
  {
   "cell_type": "code",
   "execution_count": 23,
   "metadata": {},
   "outputs": [
    {
     "data": {
      "text/plain": [
       "'100111011101'"
      ]
     },
     "execution_count": 23,
     "metadata": {},
     "output_type": "execute_result"
    }
   ],
   "source": [
    "bin(255)[2:]\n",
    "#tương tự để đổi từ số thâp phân sang nhị phân ta có lệnh bin \n",
    "bin(111)[2:]\n",
    "bin(2525)[2:]"
   ]
  },
  {
   "cell_type": "code",
   "execution_count": 42,
   "metadata": {},
   "outputs": [
    {
     "name": "stdout",
     "output_type": "stream",
     "text": [
      "Moi nhap n: 77\n",
      "Ket qua: \n",
      "12\n",
      "18\n",
      "20\n",
      "24\n",
      "30\n",
      "36\n",
      "40\n",
      "42\n",
      "48\n",
      "54\n",
      "56\n",
      "60\n",
      "66\n",
      "70\n",
      "72\n"
     ]
    }
   ],
   "source": [
    "#bai 3\n",
    "a =[]\n",
    "n = int(input(\"Moi nhap n: \"))\n",
    "print(\"Ket qua: \")\n",
    "for i in range(0,n,1): \n",
    "    if(TongUoc(i)>i):\n",
    "        print(i)\n",
    "\n"
   ]
  },
  {
   "cell_type": "code",
   "execution_count": 47,
   "metadata": {},
   "outputs": [
    {
     "name": "stdout",
     "output_type": "stream",
     "text": [
      "<class 'tuple'>\n"
     ]
    }
   ],
   "source": [
    "def SoNguyenTo(n):\n",
    "    if (n <=1):\n",
    "        return\n",
    "    for i in range (2,n,1):\n",
    "        if(n%i==0):\n",
    "            return False\n",
    "    return True\n",
    "\n",
    "kq = []\n",
    "for i in range(0,100,1): # chỗ này là 1 triêu cơ mà máy tao chưa đủ mạnh để tính đến 1 triêu nên tính 100 thôi\n",
    "    if(SoNguyenTo(i)==True):\n",
    "        kq.append(i)\n",
    "        \n",
    "t= tuple(kq)\n",
    "print(type(t))"
   ]
  },
  {
   "cell_type": "code",
   "execution_count": 13,
   "metadata": {},
   "outputs": [
    {
     "data": {
      "text/plain": [
       "252"
      ]
     },
     "execution_count": 13,
     "metadata": {},
     "output_type": "execute_result"
    }
   ],
   "source": [
    "def CheckEmail(e):\n",
    "    t1=e.split(\"@\")\n",
    "    if(len(t1)!=2): # email hợp lệ sẽ có 2 phần là trc và sau dấu @, loại luôn đc TH e rong\n",
    "        return False\n",
    "    if(e.find(\"..\")!=-1): #khong dc phép có 2 dấu chấm cạnh nhau\n",
    "        return False\n",
    "    if(t1[-1].find(\".\")==-1): # sau @ phai có ít nhất 1 dấu chấm\n",
    "        return False\n",
    "    if(len(t1[0])<=0): # phia trc @ phải có ký tự\n",
    "        return False\n",
    "    if(len(t1[-1])<=2): # phia trc @ phải có ký tự tính cả dấu chấm chắc chắn có là 3 ký tự\n",
    "        return False\n",
    "    if(e[0]=='.' or e[-1]=='.'): #ở đầu hay ở cuối ko đc phép có dấu .\n",
    "        return False\n",
    "    #các ký tự hợp lệ là dấu . chữ và số\n",
    "    allowed =\"1234567890qwertyuiopasdfghjklzxcvbnmQWERTYUIOPASDFGHJKLZXCVBNM@.\"  \n",
    "    for i in e:\n",
    "        if(i not in allowed):\n",
    "            return False\n",
    "    # đúng hết các sự kiểm tra ở trên thì là email hợp lệ\n",
    "    return True\n",
    "CheckEmail(\"minh@a.a\")\n",
    "\n",
    "format(1, '08b') #dec to bin\n",
    "int(\"11111100\",2) #bin to dec\n",
    "\n",
    "# module packages\n",
    "import numpy as np\n",
    "import scipy as sp\n",
    "import matplotlib as mpl\n",
    "import matplotlib.pyplot as plt\n",
    "import pandas\n",
    "import sklearn\n",
    "\n",
    "#int main():\n",
    "x = [1,4,5,6,7]\n",
    "y = [2,6,3,6,3]\n",
    "plt.plot(x,y,'r-.',marker='o',mfc='b',ms=10)\n",
    "plt.xlabel(\"x-axis\")\n",
    "plt.ylabel(\"y-axis\")\n",
    "plt.title(\"Display marker\")\n",
    "plt.show()"
   ]
  },
  {
   "cell_type": "code",
   "execution_count": 110,
   "metadata": {},
   "outputs": [
    {
     "data": {
      "text/plain": [
       "True"
      ]
     },
     "execution_count": 110,
     "metadata": {},
     "output_type": "execute_result"
    }
   ],
   "source": [
    "import string\n",
    "allowed =\"1234567890qwertyuiopasdfghjklzxcvbnmQWERTYUIOPASDFGHJKLZXCVBNM@\"\n",
    "\"@\" in allowed"
   ]
  },
  {
   "cell_type": "code",
   "execution_count": 7,
   "metadata": {},
   "outputs": [
    {
     "name": "stdout",
     "output_type": "stream",
     "text": [
      "     Cao  Nang\n",
      "Ten           \n",
      "A    147    49\n",
      "B    150    50\n",
      "C    153    51\n",
      "D    155    51\n",
      "E    168    60\n",
      "F    170    62\n",
      "G    173    68\n",
      "H    175    65\n",
      "I    178    66\n",
      "J    180    71\n",
      "K    183    68\n",
      "L    165    59\n",
      "M    163    58\n",
      "N    160    56\n",
      "O    158    54\n",
      "P    169    62\n",
      "Q    172    63\n",
      "S    170    62\n",
      "T    176    62\n",
      "U    180    69\n"
     ]
    },
    {
     "data": {
      "image/png": "[encoded data removed]",
      "text/plain": [
       "<Figure size 432x288 with 1 Axes>"
      ]
     },
     "metadata": {},
     "output_type": "display_data"
    },
    {
     "name": "stdout",
     "output_type": "stream",
     "text": [
      "Tổng bình phương sai số trên tập mẫu: 2.5466855190291047\n",
      "Hệ số hồi quy: [0.61529398]\n",
      "Sai số: -42.60791799222339\n",
      "Công thức: [Nặng] = [0.61529398] x [Cao] +-42.60791799222339\n"
     ]
    },
    {
     "data": {
      "image/png": "[encoded data removed]",
      "text/plain": [
       "<Figure size 432x288 with 1 Axes>"
      ]
     },
     "metadata": {},
     "output_type": "display_data"
    },
    {
     "name": "stdout",
     "output_type": "stream",
     "text": [
      "Nhập chiều cao (nhập 0 để dừng): 5\n",
      "Người cao 5.0 cm, dự báo cân nặng [-39.5314481]\n",
      "Nhập chiều cao (nhập 0 để dừng): 5\n",
      "Người cao 5.0 cm, dự báo cân nặng [-39.5314481]\n",
      "Nhập chiều cao (nhập 0 để dừng): 5\n",
      "Người cao 5.0 cm, dự báo cân nặng [-39.5314481]\n",
      "Nhập chiều cao (nhập 0 để dừng): 54\n",
      "Người cao 54.0 cm, dự báo cân nặng [-9.38204312]\n",
      "Nhập chiều cao (nhập 0 để dừng): 1\n",
      "Người cao 1.0 cm, dự báo cân nặng [-41.99262401]\n",
      "Nhập chiều cao (nhập 0 để dừng): 44\n",
      "Người cao 44.0 cm, dự báo cân nặng [-15.53498292]\n",
      "Nhập chiều cao (nhập 0 để dừng): 80\n",
      "Người cao 80.0 cm, dự báo cân nặng [6.61560033]\n",
      "Nhập chiều cao (nhập 0 để dừng): 0\n"
     ]
    }
   ],
   "source": [
    "import matplotlib.pyplot as plt\n",
    "import pandas as pd\n",
    "import numpy as np\n",
    "from sklearn import linear_model, metrics\n",
    "\n",
    "df = pd.read_csv(\"nguoi.csv\", index_col = 0)\n",
    "print(df)\n",
    "\n",
    "\n",
    "# vẽ biểu đồ minh họa dataset\n",
    "plt.plot(df.Cao, df.Nang, 'ro')\n",
    "plt.xlabel('Chiều cao (cm)')\n",
    "plt.ylabel('Cân nặng (kg)')\n",
    "plt.show()\n",
    "\n",
    "# sử dụng hồi quy tuyến tính\n",
    "X = df.loc[:, ['Cao']].values\n",
    "y = df.Nang.values\n",
    "model = linear_model.LinearRegression()\n",
    "model.fit(X, y)\n",
    "\n",
    "mse = metrics.mean_squared_error(model.predict(X), y)\n",
    "print(\"Tổng bình phương sai số trên tập mẫu:\", mse)\n",
    "print(\"Hệ số hồi quy:\", model.coef_)\n",
    "print(\"Sai số:\", model.intercept_)\n",
    "print(f\"Công thức: [Nặng] = {model.coef_} x [Cao] +{model.intercept_}\")\n",
    "\n",
    "\n",
    "plt.scatter(X, y, c='b')\n",
    "plt.plot(X, model.predict(X))\n",
    "plt.show()\n",
    "\n",
    "while True:\n",
    "    x = float(input(\"Nhập chiều cao (nhập 0 để dừng): \"))\n",
    "    if x <= 0: break\n",
    "    print(\"Người cao\", x, \"cm, dự báo cân nặng\", model.predict([[x]]))"
   ]
  },
  {
   "cell_type": "code",
   "execution_count": 10,
   "metadata": {},
   "outputs": [
    {
     "name": "stdout",
     "output_type": "stream",
     "text": [
      "    Gioitinh  Cao  Nang\n",
      "Ten                    \n",
      "A         Nu  147    49\n",
      "B         Nu  150    50\n",
      "C         Nu  153    51\n",
      "D        Nam  155    51\n",
      "E         Nu  168    60\n",
      "F        Nam  170    62\n",
      "G         Nu  173    68\n",
      "H        Nam  175    65\n",
      "I        Nam  178    66\n",
      "J        Nam  180    71\n",
      "K        Nam  183    68\n",
      "L        Nam  165    59\n",
      "M         Nu  163    58\n",
      "N         Nu  160    56\n",
      "O         Nu  158    54\n",
      "P        Nam  169    62\n",
      "Q        Nam  172    63\n",
      "S         Nu  170    62\n",
      "T        Nam  176    62\n",
      "U        Nam  180    69\n",
      "    Gioitinh  Cao  Nang  GT\n",
      "Ten                        \n",
      "A         Nu  147    49   0\n",
      "B         Nu  150    50   0\n",
      "C         Nu  153    51   0\n",
      "D        Nam  155    51   1\n",
      "E         Nu  168    60   0\n",
      "F        Nam  170    62   1\n",
      "G         Nu  173    68   0\n",
      "H        Nam  175    65   1\n",
      "I        Nam  178    66   1\n",
      "J        Nam  180    71   1\n",
      "K        Nam  183    68   1\n",
      "L        Nam  165    59   1\n",
      "M         Nu  163    58   0\n",
      "N         Nu  160    56   0\n",
      "O         Nu  158    54   0\n",
      "P        Nam  169    62   1\n",
      "Q        Nam  172    63   1\n",
      "S         Nu  170    62   0\n",
      "T        Nam  176    62   1\n",
      "U        Nam  180    69   1\n",
      "Tổng bình phương sai số trên tập mẫu: 2.2564913643284443\n",
      "Hệ số hồi quy: [ 0.65631873 -1.37619385]\n",
      "Sai số: -48.71240060903399\n",
      "Công thức: [Nặng] = [ 0.65631873 -1.37619385] x [Cao, Giới tính] +-48.71240060903399\n",
      "Nhập chiều cao (nhập 0 để dừng): 555\n",
      "Nam giới cao 555.0 cm, dự báo cân nặng [314.16829947]\n",
      "Nữ giới cao 555.0 cm, dự báo cân nặng [315.54449332]\n",
      "Nhập chiều cao (nhập 0 để dừng): 5555\n",
      "Nam giới cao 5555.0 cm, dự báo cân nặng [3595.76193845]\n",
      "Nữ giới cao 5555.0 cm, dự báo cân nặng [3597.1381323]\n",
      "Nhập chiều cao (nhập 0 để dừng): 0\n"
     ]
    }
   ],
   "source": [
    "import matplotlib.pyplot as plt\n",
    "import pandas as pd\n",
    "import numpy as np\n",
    "from sklearn import linear_model, metrics\n",
    "\n",
    "\n",
    "# đọc dữ liệu từ file csv\n",
    "df = pd.read_csv(\"nguoi2.csv\", index_col = 0)\n",
    "print(df)\n",
    "\n",
    "\n",
    "# thêm cột mới, giới tính Nam = 1, giới tính Nữ = 0\n",
    "df['GT'] = df.Gioitinh.apply(lambda x: 1 if x=='Nam' else 0)\n",
    "print(df)\n",
    "\n",
    "# sử dụng hồi quy tuyến tính\n",
    "X = df.loc[:, ['Cao', 'GT']].values\n",
    "y = df.Nang.values\n",
    "model = linear_model.LinearRegression()\n",
    "model.fit(X, y)\n",
    "\n",
    "# in một số thông tin về mô hình\n",
    "mse = metrics.mean_squared_error(model.predict(X), y)\n",
    "print(\"Tổng bình phương sai số trên tập mẫu:\", mse)\n",
    "print(\"Hệ số hồi quy:\", model.coef_)\n",
    "print(\"Sai số:\", model.intercept_)\n",
    "print(f\"Công thức: [Nặng] = {model.coef_} x [Cao, Giới tính] +{model.intercept_}\")\n",
    "\n",
    "# dự báo một số tình huống\n",
    "while True:\n",
    "    x = float(input(\"Nhập chiều cao (nhập 0 để dừng): \"))\n",
    "    if x <= 0: break\n",
    "    print(\"Nam giới cao\", x, \"cm, dự báo cân nặng\",    model.predict([[x, 1]]))\n",
    "    print(\"Nữ giới cao\", x, \"cm, dự báo cân nặng\",model.predict([[x, 0]]))"
   ]
  },
  {
   "cell_type": "code",
   "execution_count": 16,
   "metadata": {},
   "outputs": [
    {
     "name": "stdout",
     "output_type": "stream",
     "text": [
      "     fixed acidity;\"volatile acidity\";\"citric acid\";\"residual sugar\";\"chlorides\";\"free sulfur dioxide\";\"total sulfur dioxide\";\"density\";\"pH\";\"sulphates\";\"alcohol\";\"quality\"\n",
      "0      7.4;0.7;0;1.9;0.076;11;34;0.9978;3.51;0.56;9.4;5                                                                                                                     \n",
      "1      7.8;0.88;0;2.6;0.098;25;67;0.9968;3.2;0.68;9.8;5                                                                                                                     \n",
      "2     7.8;0.76;0.04;2.3;0.092;15;54;0.997;3.26;0.65;...                                                                                                                     \n",
      "3     11.2;0.28;0.56;1.9;0.075;17;60;0.998;3.16;0.58...                                                                                                                     \n",
      "4      7.4;0.7;0;1.9;0.076;11;34;0.9978;3.51;0.56;9.4;5                                                                                                                     \n",
      "5     7.4;0.66;0;1.8;0.075;13;40;0.9978;3.51;0.56;9.4;5                                                                                                                     \n",
      "6     7.9;0.6;0.06;1.6;0.069;15;59;0.9964;3.3;0.46;9...                                                                                                                     \n",
      "7      7.3;0.65;0;1.2;0.065;15;21;0.9946;3.39;0.47;10;7                                                                                                                     \n",
      "8     7.8;0.58;0.02;2;0.073;9;18;0.9968;3.36;0.57;9.5;7                                                                                                                     \n",
      "9     7.5;0.5;0.36;6.1;0.071;17;102;0.9978;3.35;0.8;...                                                                                                                     \n",
      "10    6.7;0.58;0.08;1.8;0.097;15;65;0.9959;3.28;0.54...                                                                                                                     \n",
      "11    7.5;0.5;0.36;6.1;0.071;17;102;0.9978;3.35;0.8;...                                                                                                                     \n",
      "12    5.6;0.615;0;1.6;0.089;16;59;0.9943;3.58;0.52;9...                                                                                                                     \n",
      "13    7.8;0.61;0.29;1.6;0.114;9;29;0.9974;3.26;1.56;...                                                                                                                     \n",
      "14    8.9;0.62;0.18;3.8;0.176;52;145;0.9986;3.16;0.8...                                                                                                                     \n",
      "15    8.9;0.62;0.19;3.9;0.17;51;148;0.9986;3.17;0.93...                                                                                                                     \n",
      "16    8.5;0.28;0.56;1.8;0.092;35;103;0.9969;3.3;0.75...                                                                                                                     \n",
      "17    8.1;0.56;0.28;1.7;0.368;16;56;0.9968;3.11;1.28...                                                                                                                     \n",
      "18     7.4;0.59;0.08;4.4;0.086;6;29;0.9974;3.38;0.5;9;4                                                                                                                     \n",
      "19    7.9;0.32;0.51;1.8;0.341;17;56;0.9969;3.04;1.08...                                                                                                                     \n",
      "20    8.9;0.22;0.48;1.8;0.077;29;60;0.9968;3.39;0.53...                                                                                                                     \n",
      "21    7.6;0.39;0.31;2.3;0.082;23;71;0.9982;3.52;0.65...                                                                                                                     \n",
      "22    7.9;0.43;0.21;1.6;0.106;10;37;0.9966;3.17;0.91...                                                                                                                     \n",
      "23    8.5;0.49;0.11;2.3;0.084;9;67;0.9968;3.17;0.53;...                                                                                                                     \n",
      "24    6.9;0.4;0.14;2.4;0.085;21;40;0.9968;3.43;0.63;...                                                                                                                     \n",
      "25    6.3;0.39;0.16;1.4;0.08;11;23;0.9955;3.34;0.56;...                                                                                                                     \n",
      "26    7.6;0.41;0.24;1.8;0.08;4;11;0.9962;3.28;0.59;9...                                                                                                                     \n",
      "27    7.9;0.43;0.21;1.6;0.106;10;37;0.9966;3.17;0.91...                                                                                                                     \n",
      "28     7.1;0.71;0;1.9;0.08;14;35;0.9972;3.47;0.55;9.4;5                                                                                                                     \n",
      "29      7.8;0.645;0;2;0.082;8;16;0.9964;3.38;0.59;9.8;6                                                                                                                     \n",
      "...                                                 ...                                                                                                                     \n",
      "1569  6.2;0.51;0.14;1.9;0.056;15;34;0.99396;3.48;0.5...                                                                                                                     \n",
      "1570  6.4;0.36;0.53;2.2;0.23;19;35;0.9934;3.37;0.93;...                                                                                                                     \n",
      "1571  6.4;0.38;0.14;2.2;0.038;15;25;0.99514;3.44;0.6...                                                                                                                     \n",
      "1572  7.3;0.69;0.32;2.2;0.069;35;104;0.99632;3.33;0....                                                                                                                     \n",
      "1573  6;0.58;0.2;2.4;0.075;15;50;0.99467;3.58;0.67;1...                                                                                                                     \n",
      "1574  5.6;0.31;0.78;13.9;0.074;23;92;0.99677;3.39;0....                                                                                                                     \n",
      "1575  7.5;0.52;0.4;2.2;0.06;12;20;0.99474;3.26;0.64;...                                                                                                                     \n",
      "1576  8;0.3;0.63;1.6;0.081;16;29;0.99588;3.3;0.78;10...                                                                                                                     \n",
      "1577  6.2;0.7;0.15;5.1;0.076;13;27;0.99622;3.54;0.6;...                                                                                                                     \n",
      "1578  6.8;0.67;0.15;1.8;0.118;13;20;0.9954;3.42;0.67...                                                                                                                     \n",
      "1579  6.2;0.56;0.09;1.7;0.053;24;32;0.99402;3.54;0.6...                                                                                                                     \n",
      "1580  7.4;0.35;0.33;2.4;0.068;9;26;0.9947;3.36;0.6;1...                                                                                                                     \n",
      "1581  6.2;0.56;0.09;1.7;0.053;24;32;0.99402;3.54;0.6...                                                                                                                     \n",
      "1582  6.1;0.715;0.1;2.6;0.053;13;27;0.99362;3.57;0.5...                                                                                                                     \n",
      "1583  6.2;0.46;0.29;2.1;0.074;32;98;0.99578;3.33;0.6...                                                                                                                     \n",
      "1584  6.7;0.32;0.44;2.4;0.061;24;34;0.99484;3.29;0.8...                                                                                                                     \n",
      "1585  7.2;0.39;0.44;2.6;0.066;22;48;0.99494;3.3;0.84...                                                                                                                     \n",
      "1586  7.5;0.31;0.41;2.4;0.065;34;60;0.99492;3.34;0.8...                                                                                                                     \n",
      "1587  5.8;0.61;0.11;1.8;0.066;18;28;0.99483;3.55;0.6...                                                                                                                     \n",
      "1588  7.2;0.66;0.33;2.5;0.068;34;102;0.99414;3.27;0....                                                                                                                     \n",
      "1589  6.6;0.725;0.2;7.8;0.073;29;79;0.9977;3.29;0.54...                                                                                                                     \n",
      "1590  6.3;0.55;0.15;1.8;0.077;26;35;0.99314;3.32;0.8...                                                                                                                     \n",
      "1591  5.4;0.74;0.09;1.7;0.089;16;26;0.99402;3.67;0.5...                                                                                                                     \n",
      "1592  6.3;0.51;0.13;2.3;0.076;29;40;0.99574;3.42;0.7...                                                                                                                     \n",
      "1593  6.8;0.62;0.08;1.9;0.068;28;38;0.99651;3.42;0.8...                                                                                                                     \n",
      "1594  6.2;0.6;0.08;2;0.09;32;44;0.9949;3.45;0.58;10.5;5                                                                                                                     \n",
      "1595  5.9;0.55;0.1;2.2;0.062;39;51;0.99512;3.52;0.76...                                                                                                                     \n",
      "1596  6.3;0.51;0.13;2.3;0.076;29;40;0.99574;3.42;0.7...                                                                                                                     \n",
      "1597  5.9;0.645;0.12;2;0.075;32;44;0.99547;3.57;0.71...                                                                                                                     \n",
      "1598  6;0.31;0.47;3.6;0.067;18;42;0.99549;3.39;0.66;...                                                                                                                     \n",
      "\n",
      "[1599 rows x 1 columns]\n"
     ]
    }
   ],
   "source": [
    "import matplotlib.pyplot as plt\n",
    "import pandas as pd\n",
    "import numpy as np\n",
    "from sklearn import linear_model, metrics\n",
    "\n",
    "# đọc dữ liệu từ file csv\n",
    "df = pd.read_csv(\"winequality-red.csv\")\n",
    "print(df)\n",
    "\n"
   ]
  },
  {
   "cell_type": "code",
   "execution_count": null,
   "metadata": {},
   "outputs": [],
   "source": [
    "\n"
   ]
  },
  {
   "cell_type": "code",
   "execution_count": null,
   "metadata": {},
   "outputs": [],
   "source": [
    "\n"
   ]
  },
  {
   "cell_type": "code",
   "execution_count": null,
   "metadata": {},
   "outputs": [],
   "source": [
    "\n",
    "\n"
   ]
  },
  {
   "cell_type": "code",
   "execution_count": 98,
   "metadata": {},
   "outputs": [
    {
     "data": {
      "image/png": "[encoded data removed]",
      "text/plain": [
       "<Figure size 432x288 with 1 Axes>"
      ]
     },
     "metadata": {},
     "output_type": "display_data"
    }
   ],
   "source": [
    "import matplotlib as mpl\n",
    "import matplotlib.pyplot as plt\n",
    "import numpy as np\n",
    "a=np.linspace(-10,100)\n",
    "b=a*a\n",
    "plt.ylabel(\"ahihi\")\n",
    "plt.xlabel(\"Ten cot ngang\")\n",
    "plt.title(\"Ten bieu do\")\n",
    "plt.plot(a,b)\n",
    "\n",
    "\n",
    "\n",
    "plt.show()"
   ]
  },
  {
   "cell_type": "code",
   "execution_count": null,
   "metadata": {},
   "outputs": [],
   "source": []
  },
  {
   "cell_type": "code",
   "execution_count": null,
   "metadata": {},
   "outputs": [],
   "source": []
  }
 ],
 "metadata": {
  "kernelspec": {
   "display_name": "Python 3",
   "language": "python",
   "name": "python3"
  },
  "language_info": {
   "codemirror_mode": {
    "name": "ipython",
    "version": 3
   },
   "file_extension": ".py",
   "mimetype": "text/x-python",
   "name": "python",
   "nbconvert_exporter": "python",
   "pygments_lexer": "ipython3",
   "version": "3.6.5"
  }
 },
 "nbformat": 4,
 "nbformat_minor": 2
}
